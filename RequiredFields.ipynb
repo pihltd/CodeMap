{
 "cells": [
  {
   "cell_type": "code",
   "execution_count": 1,
   "id": "7b7c6c49-81da-49f4-9f54-6e7772cb0b6b",
   "metadata": {},
   "outputs": [],
   "source": [
    "import pandas as pd\n",
    "import yaml\n",
    "import pprint"
   ]
  },
  {
   "cell_type": "code",
   "execution_count": 2,
   "id": "b9dbcf0c-9b07-4732-9eeb-1f7cef77f19d",
   "metadata": {},
   "outputs": [],
   "source": [
    "cds_template = \"/media/vmshare/CDS Metadata Submission Template v1.3.2.xlsx\"\n",
    "cds_sheet = \"Dictionary\"\n",
    "cds_props = \"/home/pihl/models/cds-model/model-desc/cds-model-props.yml\""
   ]
  },
  {
   "cell_type": "code",
   "execution_count": 3,
   "id": "33982559-17d3-4dd3-8a46-d6ed08f4a505",
   "metadata": {},
   "outputs": [],
   "source": [
    "template_df = pd.read_excel(cds_template, cds_sheet)"
   ]
  },
  {
   "cell_type": "code",
   "execution_count": 4,
   "id": "b0d16dac-5671-46fc-a271-8de94b7e3c8f",
   "metadata": {},
   "outputs": [],
   "source": [
    "with open(cds_props) as f:\n",
    "        props_json = yaml.load(f, Loader=yaml.FullLoader)"
   ]
  },
  {
   "cell_type": "code",
   "execution_count": 5,
   "id": "dceef2bc-a012-4969-9195-996ff5f2098b",
   "metadata": {},
   "outputs": [],
   "source": [
    "req_props = {}\n",
    "for field, entry in props_json['PropDefinitions'].items():\n",
    "    if 'Req' in entry:\n",
    "        if entry['Req'] == True:\n",
    "            req_props[field] = entry"
   ]
  },
  {
   "cell_type": "code",
   "execution_count": 6,
   "id": "894ade24-3391-4524-9282-e359d55c7b8d",
   "metadata": {},
   "outputs": [],
   "source": [
    "template_req = pd.notnull(template_df['Required'])"
   ]
  },
  {
   "cell_type": "code",
   "execution_count": 7,
   "id": "f8d8000a-1c8d-4a3e-af98-cd44ef71c7ae",
   "metadata": {},
   "outputs": [],
   "source": [
    "temp_req_df = template_df[template_req]"
   ]
  },
  {
   "cell_type": "code",
   "execution_count": 8,
   "id": "6d53d38c-e6e3-4cd1-87e0-17ec4ccec045",
   "metadata": {},
   "outputs": [],
   "source": [
    "temp_list = temp_req_df['Field\\n(CDE - CDS Alt Name)'].tolist()"
   ]
  },
  {
   "cell_type": "code",
   "execution_count": 9,
   "id": "f013d9d5-2f8b-43b1-a595-d3f3f824cbcf",
   "metadata": {},
   "outputs": [
    {
     "name": "stdout",
     "output_type": "stream",
     "text": [
      "['phs_accession', 'study_name', 'study_acronym', 'number_of_participants', 'number_of_samples', 'study_data_types', 'experimental_strategy_and_data_subtype', 'acl', 'role_or_affiliation', 'title', 'first_name', 'middle_name', 'last_name', 'email', 'participant_id', 'sample_id', 'sample_type', 'file_name', 'file_type', 'file_size', 'md5sum', 'file_url_in_cds', 'library_id', 'library_strategy', 'library_source', 'library_selection', 'library_layout', 'platform', 'instrument_model', 'design_description', 'reference_genome_assembly', 'primary_diagnosis\\n']\n"
     ]
    }
   ],
   "source": [
    "print(temp_list)"
   ]
  },
  {
   "cell_type": "code",
   "execution_count": 10,
   "id": "d2deff97-f7ad-4be0-9f5c-6d6e40230d08",
   "metadata": {},
   "outputs": [
    {
     "name": "stdout",
     "output_type": "stream",
     "text": [
      "['CTAquisitionProtocolElement_ctdiPhantomTypeCode', 'CTAquisitionProtocolElement_ctdiVol', 'CTAquisitionProtocolElement_gantryDetectorTilt', 'CTAquisitionProtocolElement_kVp', 'CTAquisitionProtocolElement_spiralPitchFactor', 'CTAquisitionProtocolElement_tableSpeed', 'CTAquisitionProtocolElement_totalCollimationWidth', 'channel_id', 'channel_metadata_file_url_in_cds', 'channel_metadata_filename', 'channel_name', 'citation_or_DOI', 'de_identification_method_type', 'embedding_medium', 'file_id', 'file_name', 'file_type', 'gender', 'genomic_info_id', 'image_modality', 'imaging_assay_type', 'imaging_equipment_manufacturer', 'license', 'md5sum', 'organ_or_tissue', 'participant_id', 'performed_imaging_study_acquisitionTypeCode', 'performed_imaging_study_admittingDiagnosisCode', 'performed_imaging_study_algorithmCode', 'performed_imaging_study_dataCollectionDiameter', 'performed_imaging_study_description', 'performed_imaging_study_lossyImageCompressionIndicator', 'performed_imaging_study_nonAcquisitionModalitiesInStudyCode', 'performed_imaging_study_primaryAnatomicSiteCode', 'performed_imaging_study_reconstructionDiameter', 'performed_imaging_study_reconstructionFieldOfViewHeight', 'performed_imaging_study_reconstructionFieldOfViewWidth', 'performed_imaging_study_reconstructionInterval', 'performed_imaging_study_respiratoryMotionTechniqueCode', 'performed_imaging_study_sliceThickness', 'performed_imaging_study_summary', 'performed_imaging_study_typeCode', 'phs_accession', 'primary_diagnosis', 'species', 'staining_method', 'study_access', 'study_diagnosis_id', 'study_link_id', 'study_participant_id', 'study_version', 'submission_version', 'tissue_fixative']\n"
     ]
    }
   ],
   "source": [
    "prop_list = list(req_props.keys())\n",
    "print(prop_list)"
   ]
  },
  {
   "cell_type": "code",
   "execution_count": 11,
   "id": "3a2278d3-450b-4253-99a9-012198b17982",
   "metadata": {},
   "outputs": [],
   "source": [
    "cds_model = \"/home/pihl/models/cds-model/model-desc/cds-model.yml\"\n",
    "with open(cds_model) as f:\n",
    "    model_json = yaml.load(f, Loader=yaml.FullLoader)"
   ]
  },
  {
   "cell_type": "code",
   "execution_count": 12,
   "id": "013d26d1-f5ab-4878-9a3e-222fff648ce3",
   "metadata": {},
   "outputs": [],
   "source": [
    "img_list = model_json['Nodes']['image']['Props']"
   ]
  },
  {
   "cell_type": "code",
   "execution_count": 13,
   "id": "8c67bc88-366d-44f5-8220-95d0e3164c69",
   "metadata": {},
   "outputs": [
    {
     "name": "stdout",
     "output_type": "stream",
     "text": [
      "study_link_id\n",
      "Field study_link_id is in list\n",
      "de_identification_method_type\n",
      "Field de_identification_method_type is in list\n",
      "de_identification_method_description\n",
      "Field de_identification_method_description is in list\n"
     ]
    },
    {
     "ename": "ValueError",
     "evalue": "list.remove(x): x not in list",
     "output_type": "error",
     "traceback": [
      "\u001b[0;31m---------------------------------------------------------------------------\u001b[0m",
      "\u001b[0;31mValueError\u001b[0m                                Traceback (most recent call last)",
      "Cell \u001b[0;32mIn[13], line 5\u001b[0m\n\u001b[1;32m      3\u001b[0m \u001b[38;5;28;01mif\u001b[39;00m field \u001b[38;5;129;01min\u001b[39;00m img_list:\n\u001b[1;32m      4\u001b[0m     \u001b[38;5;28mprint\u001b[39m(\u001b[38;5;124mf\u001b[39m\u001b[38;5;124m\"\u001b[39m\u001b[38;5;124mField \u001b[39m\u001b[38;5;132;01m{\u001b[39;00mfield\u001b[38;5;132;01m}\u001b[39;00m\u001b[38;5;124m is in list\u001b[39m\u001b[38;5;124m\"\u001b[39m)\n\u001b[0;32m----> 5\u001b[0m     \u001b[43mprop_list\u001b[49m\u001b[38;5;241;43m.\u001b[39;49m\u001b[43mremove\u001b[49m\u001b[43m(\u001b[49m\u001b[38;5;28;43mstr\u001b[39;49m\u001b[43m(\u001b[49m\u001b[43mfield\u001b[49m\u001b[43m)\u001b[49m\u001b[43m)\u001b[49m\n\u001b[1;32m      6\u001b[0m \u001b[38;5;28;01melse\u001b[39;00m:\n\u001b[1;32m      7\u001b[0m     \u001b[38;5;28mprint\u001b[39m(\u001b[38;5;124mf\u001b[39m\u001b[38;5;124m\"\u001b[39m\u001b[38;5;124mField \u001b[39m\u001b[38;5;132;01m{\u001b[39;00mfield\u001b[38;5;132;01m}\u001b[39;00m\u001b[38;5;124m no found\u001b[39m\u001b[38;5;124m\"\u001b[39m)\n",
      "\u001b[0;31mValueError\u001b[0m: list.remove(x): x not in list"
     ]
    }
   ],
   "source": [
    "for field in img_list:\n",
    "    print(field)\n",
    "    if field in img_list:\n",
    "        print(f\"Field {field} is in list\")\n",
    "        prop_list.remove(str(field))\n",
    "    else:\n",
    "        print(f\"Field {field} no found\")"
   ]
  },
  {
   "cell_type": "code",
   "execution_count": 14,
   "id": "d7f88504-a978-453d-bf07-c2b9904043d1",
   "metadata": {},
   "outputs": [],
   "source": [
    "for field in prop_list:\n",
    "    if field in img_list:\n",
    "        prop_list.remove(field)"
   ]
  },
  {
   "cell_type": "code",
   "execution_count": 15,
   "id": "deec23a0-b125-4ef2-920d-8bd282301b6b",
   "metadata": {},
   "outputs": [
    {
     "name": "stdout",
     "output_type": "stream",
     "text": [
      "['CTAquisitionProtocolElement_ctdiVol', 'CTAquisitionProtocolElement_kVp', 'CTAquisitionProtocolElement_tableSpeed', 'channel_id', 'channel_metadata_filename', 'citation_or_DOI', 'file_id', 'file_name', 'file_type', 'gender', 'genomic_info_id', 'imaging_assay_type', 'license', 'md5sum', 'participant_id', 'performed_imaging_study_admittingDiagnosisCode', 'performed_imaging_study_dataCollectionDiameter', 'performed_imaging_study_lossyImageCompressionIndicator', 'performed_imaging_study_primaryAnatomicSiteCode', 'performed_imaging_study_reconstructionFieldOfViewHeight', 'performed_imaging_study_reconstructionInterval', 'performed_imaging_study_sliceThickness', 'performed_imaging_study_typeCode', 'phs_accession', 'primary_diagnosis', 'staining_method', 'study_access', 'study_diagnosis_id', 'study_participant_id', 'study_version', 'submission_version']\n"
     ]
    }
   ],
   "source": [
    "print(prop_list)"
   ]
  },
  {
   "cell_type": "code",
   "execution_count": null,
   "id": "36302620-19fa-4190-8738-efb7efbf0521",
   "metadata": {},
   "outputs": [],
   "source": []
  }
 ],
 "metadata": {
  "kernelspec": {
   "display_name": "Python 3 (ipykernel)",
   "language": "python",
   "name": "python3"
  },
  "language_info": {
   "codemirror_mode": {
    "name": "ipython",
    "version": 3
   },
   "file_extension": ".py",
   "mimetype": "text/x-python",
   "name": "python",
   "nbconvert_exporter": "python",
   "pygments_lexer": "ipython3",
   "version": "3.10.12"
  }
 },
 "nbformat": 4,
 "nbformat_minor": 5
}
