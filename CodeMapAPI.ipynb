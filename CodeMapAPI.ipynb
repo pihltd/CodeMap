{
 "cells": [
  {
   "cell_type": "code",
   "execution_count": 1,
   "metadata": {},
   "outputs": [],
   "source": [
    "import requests\n",
    "import pandas as pd\n",
    "import json"
   ]
  },
  {
   "cell_type": "code",
   "execution_count": 2,
   "metadata": {},
   "outputs": [],
   "source": [
    "def getModelInfo(url):\n",
    "    headers = {'accept':'application/json'}\n",
    "    try:\n",
    "        results = requests.get(url, headers = headers)\n",
    "    except requests.exceptions.HTTPError as e:\n",
    "        return (f\"HTTPError:\\n{e}\")\n",
    "    if results.status_code == 200:\n",
    "        results = json.loads(results.content.decode())\n",
    "        return results\n",
    "    else:\n",
    "        return (f\"Error Code: {results.status_code}\\n{results.content}\")"
   ]
  },
  {
   "cell_type": "code",
   "execution_count": 3,
   "metadata": {},
   "outputs": [],
   "source": [
    "baseURL = \"https://cadsrapi.cancer.gov/rad/NCIModelAPI/1.0/api/\""
   ]
  },
  {
   "cell_type": "code",
   "execution_count": 4,
   "metadata": {},
   "outputs": [
    {
     "name": "stdout",
     "output_type": "stream",
     "text": [
      "https://cadsrapi.cancer.gov/rad/NCIModelAPI/1.0/api/Models\n",
      "{'publicId': '14714099', 'version': '5.4', 'longName': 'OMOP', 'shortName': '14714099v5.40', 'preferredDefinition': 'The Observational Medical Outcomes Partnership (OMOP) Common Data Model (CDM) is an open community data standard, designed to standardize the structure and content of observational data and to enable efficient analyses that can produce reliable evidence.', 'context': 'CDMH', 'latestVersionIndicator': 'Yes', 'modellingLanguage': 'UML', 'modelType': 'Physical Model', 'modelAlternateNameType': 'OMOP Name', 'createdBy': 'DWARZEL', 'dateCreated': '2024-01-19', 'modifiedBy': 'DWARZEL', 'dateModified': '2024-07-15'}\n",
      "{'publicId': '14714105', 'version': '6.1', 'longName': 'PCORnet', 'shortName': '14714105v6.10', 'preferredDefinition': 'The PCORnet Common Data Model, developed by the PCORnet community, standardizes data from the Network’s diverse clinical information systems into a common format. As a result, users of PCORnet can ask the same question simultaneously to hundreds of PCORnet systems and receive a clear, reliable answer.', 'context': 'CDMH', 'latestVersionIndicator': 'Yes', 'modellingLanguage': 'UML', 'modelType': 'Physical Model', 'modelAlternateNameType': 'PCORNet Name', 'createdBy': 'DWARZEL', 'dateCreated': '2024-01-19', 'modifiedBy': 'DWARZEL', 'dateModified': '2024-07-15'}\n",
      "{'publicId': '15022202', 'version': '2', 'longName': 'SDTM', 'shortName': '15022202v1.00', 'preferredDefinition': \"This is CDISC's Study Data Tabulation Model\", 'context': 'CDMH', 'latestVersionIndicator': 'Yes', 'modellingLanguage': 'Standard', 'modelType': 'Physical Model', 'modelAlternateNameType': 'CDISC SDTM Variable', 'createdBy': 'DWARZEL', 'dateCreated': '2024-08-01', 'modifiedBy': 'DWARZEL', 'dateModified': '2024-08-01'}\n",
      "{'publicId': '15181834', 'version': '7', 'longName': 'FHIR US Core Profiles (CY WS I - PROD)', 'shortName': '15181834v7.00', 'preferredDefinition': 'FHIR US Core Profiles', 'context': 'CDMH', 'latestVersionIndicator': 'Yes', 'modellingLanguage': 'Standard', 'modelType': 'Physical Model', 'modelAlternateNameType': 'FHIR US CORE Name', 'createdBy': 'CHARLESY', 'dateCreated': '2024-10-16', 'modifiedBy': 'CHARLESY', 'dateModified': '2024-10-16'}\n"
     ]
    }
   ],
   "source": [
    "# Docs: https://cadsrapi.cancer.gov/NCIAPIPortal/\n",
    "#Get a list of models\n",
    "url = baseURL+\"Models\"\n",
    "print(url)\n",
    "modeljson = getModelInfo(url)\n",
    "#print(modeljson)\n",
    "modellist = modeljson['ModelQueryResults']\n",
    "for model in modellist:\n",
    "    print (model)"
   ]
  },
  {
   "cell_type": "code",
   "execution_count": null,
   "metadata": {},
   "outputs": [],
   "source": [
    "#Get a list of model mappings\n",
    "url = baseURL+\"ModelMappings\"\n",
    "mappingjson = getModelInfo(url)\n",
    "for mapping in mappingjson['ModelMappings']:\n",
    "    print(mapping)\n"
   ]
  }
 ],
 "metadata": {
  "kernelspec": {
   "display_name": ".venv",
   "language": "python",
   "name": "python3"
  },
  "language_info": {
   "codemirror_mode": {
    "name": "ipython",
    "version": 3
   },
   "file_extension": ".py",
   "mimetype": "text/x-python",
   "name": "python",
   "nbconvert_exporter": "python",
   "pygments_lexer": "ipython3",
   "version": "3.12.1"
  }
 },
 "nbformat": 4,
 "nbformat_minor": 2
}
