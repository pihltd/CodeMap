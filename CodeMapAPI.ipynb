{
 "cells": [
  {
   "cell_type": "code",
   "execution_count": 1,
   "metadata": {},
   "outputs": [],
   "source": [
    "import requests\n",
    "import pandas as pd\n",
    "import json"
   ]
  },
  {
   "cell_type": "code",
   "execution_count": 2,
   "metadata": {},
   "outputs": [],
   "source": [
    "def getModelInfo(url):\n",
    "    headers = {'accept':'application/json'}\n",
    "    try:\n",
    "        results = requests.get(url, headers = headers)\n",
    "    except requests.exceptions.HTTPError as e:\n",
    "        return (f\"HTTPError:\\n{e}\")\n",
    "    if results.status_code == 200:\n",
    "        results = json.loads(results.content.decode())\n",
    "        return results\n",
    "    else:\n",
    "        return (f\"Error Code: {results.status_code}\\n{results.content}\")"
   ]
  },
  {
   "cell_type": "code",
   "execution_count": 3,
   "metadata": {},
   "outputs": [],
   "source": [
    "baseURL = \"https://cadsrapi.cancer.gov/rad/NCIModelAPI/1.0/api/\""
   ]
  },
  {
   "cell_type": "code",
   "execution_count": 4,
   "metadata": {},
   "outputs": [
    {
     "name": "stdout",
     "output_type": "stream",
     "text": [
      "https://cadsrapi.cancer.gov/rad/NCIModelAPI/1.0/api/Models\n",
      "{'publicId': '14714099', 'version': '5.4', 'longName': 'OMOP', 'shortName': '14714099v5.40', 'preferredDefinition': 'The Observational Medical Outcomes Partnership (OMOP) Common Data Model (CDM) is an open community data standard, designed to standardize the structure and content of observational data and to enable efficient analyses that can produce reliable evidence.', 'context': 'CDMH', 'latestVersionIndicator': 'Yes', 'modellingLanguage': 'UML', 'modelType': 'Physical Model', 'modelAlternateNameType': 'OMOP Name', 'createdBy': 'DWARZEL', 'dateCreated': '2024-01-19', 'modifiedBy': 'DWARZEL', 'dateModified': '2024-07-15'}\n",
      "{'publicId': '14714105', 'version': '6.1', 'longName': 'PCORnet', 'shortName': '14714105v6.10', 'preferredDefinition': 'The PCORnet Common Data Model, developed by the PCORnet community, standardizes data from the Network’s diverse clinical information systems into a common format. As a result, users of PCORnet can ask the same question simultaneously to hundreds of PCORnet systems and receive a clear, reliable answer.', 'context': 'CDMH', 'latestVersionIndicator': 'Yes', 'modellingLanguage': 'UML', 'modelType': 'Physical Model', 'modelAlternateNameType': 'PCORNet Name', 'createdBy': 'DWARZEL', 'dateCreated': '2024-01-19', 'modifiedBy': 'DWARZEL', 'dateModified': '2024-07-15'}\n",
      "{'publicId': '15022202', 'version': '2', 'longName': 'SDTM', 'shortName': '15022202v1.00', 'preferredDefinition': \"This is CDISC's Study Data Tabulation Model\", 'context': 'CDMH', 'latestVersionIndicator': 'Yes', 'modellingLanguage': 'Standard', 'modelType': 'Physical Model', 'modelAlternateNameType': 'CDISC SDTM Variable', 'createdBy': 'DWARZEL', 'dateCreated': '2024-08-01', 'modifiedBy': 'DWARZEL', 'dateModified': '2024-08-01'}\n",
      "{'publicId': '15181834', 'version': '7', 'longName': 'FHIR US Core Profiles (CY WS I - PROD)', 'shortName': '15181834v7.00', 'preferredDefinition': 'FHIR US Core Profiles', 'context': 'CDMH', 'latestVersionIndicator': 'Yes', 'modellingLanguage': 'Standard', 'modelType': 'Physical Model', 'modelAlternateNameType': 'FHIR US CORE Name', 'createdBy': 'CHARLESY', 'dateCreated': '2024-10-16', 'modifiedBy': 'CHARLESY', 'dateModified': '2024-10-16'}\n"
     ]
    }
   ],
   "source": [
    "# Docs: https://cadsrapi.cancer.gov/NCIAPIPortal/\n",
    "#Get a list of models\n",
    "url = baseURL+\"Models\"\n",
    "print(url)\n",
    "modeljson = getModelInfo(url)\n",
    "#print(modeljson)\n",
    "modellist = modeljson['ModelQueryResults']\n",
    "for model in modellist:\n",
    "    print (model)"
   ]
  },
  {
   "cell_type": "code",
   "execution_count": 5,
   "metadata": {},
   "outputs": [
    {
     "name": "stdout",
     "output_type": "stream",
     "text": [
      "{'publicId': '15034402', 'version': '1', 'name': 'Deepali Test - OMOP to PCORNet', 'generatedName': 'Deepali Test - OMOP to PCORNet | OMOPv5.4 -> PCORnetv6.1 | 15034402|1', 'workflowStatus': 'DRAFT NEW', 'registrationStatus': 'Incomplete', 'contextName': 'TEST', 'latestVersionIndicator': 'Yes', 'sourceModelPublicId': '14714099', 'sourceModelVersion': '5.4', 'sourceModelName': 'OMOP', 'sourceModelWorkflowStatus': 'DRAFT NEW', 'sourceModelContext': 'CDMH', 'targetModelPublicId': '14714105', 'targetModelVersion': '6.1', 'targetModelName': 'PCORnet', 'targetModelWorkflowStatus': 'DRAFT NEW', 'targetModelContext': 'CDMH', 'provenanceOrganization': None, 'provenanceContact': None, 'createdBy': 'DMANATHARA', 'dateCreated': '2024-08-10 23:23:55', 'modifiedBy': 'DMANATHARA', 'dateModified': '2024-08-10 23:23:56'}\n",
      "{'publicId': '15290935', 'version': '1', 'name': 'Charles Workspace P-03', 'generatedName': 'Charles Workspace P-03 | FHIR US Core Profiles (CY WS I - PROD)v7 -> SDTMv2 | 15290935|1', 'workflowStatus': 'DRAFT NEW', 'registrationStatus': 'Incomplete', 'contextName': 'CDMH', 'latestVersionIndicator': 'Yes', 'sourceModelPublicId': '15181834', 'sourceModelVersion': '7', 'sourceModelName': 'FHIR US Core Profiles (CY WS I - PROD)', 'sourceModelWorkflowStatus': 'DRAFT NEW', 'sourceModelContext': 'CDMH', 'targetModelPublicId': '15022202', 'targetModelVersion': '2', 'targetModelName': 'SDTM', 'targetModelWorkflowStatus': 'DRAFT NEW', 'targetModelContext': 'CDMH', 'provenanceOrganization': None, 'provenanceContact': None, 'createdBy': 'CHARLESY', 'dateCreated': '2024-11-12 12:09:01', 'modifiedBy': 'CHARLESY', 'dateModified': '2024-11-12 12:09:01'}\n",
      "{'publicId': '15255843', 'version': '1', 'name': 'Denise Test S60', 'generatedName': 'Denise Test S60 | FHIR US Core Profiles (CY WS I - PROD)v7 -> SDTMv2 | 15255843|1', 'workflowStatus': 'DRAFT NEW', 'registrationStatus': 'Incomplete', 'contextName': 'TEST', 'latestVersionIndicator': 'Yes', 'sourceModelPublicId': '15181834', 'sourceModelVersion': '7', 'sourceModelName': 'FHIR US Core Profiles (CY WS I - PROD)', 'sourceModelWorkflowStatus': 'DRAFT NEW', 'sourceModelContext': 'CDMH', 'targetModelPublicId': '15022202', 'targetModelVersion': '2', 'targetModelName': 'SDTM', 'targetModelWorkflowStatus': 'DRAFT NEW', 'targetModelContext': 'CDMH', 'provenanceOrganization': None, 'provenanceContact': None, 'createdBy': 'DWARZEL', 'dateCreated': '2024-11-04 16:44:46', 'modifiedBy': 'DWARZEL', 'dateModified': '2024-11-04 16:44:47'}\n",
      "{'publicId': '14714110', 'version': '1', 'name': 'Denise Test pre-S52  02 - OMOP to PCOR', 'generatedName': 'Denise Test pre-S52  02 - OMOP to PCOR | OMOP 5.4 New CDEsv5.4 mapped to PCORnet 6.1 New CDEsv6.1 | 14714110|1', 'workflowStatus': 'DRAFT NEW', 'registrationStatus': 'Incomplete', 'contextName': 'TEST', 'latestVersionIndicator': 'Yes', 'sourceModelPublicId': '14714099', 'sourceModelVersion': '5.4', 'sourceModelName': 'OMOP', 'sourceModelWorkflowStatus': 'DRAFT NEW', 'sourceModelContext': 'CDMH', 'targetModelPublicId': '14714105', 'targetModelVersion': '6.1', 'targetModelName': 'PCORnet', 'targetModelWorkflowStatus': 'DRAFT NEW', 'targetModelContext': 'CDMH', 'provenanceOrganization': None, 'provenanceContact': None, 'createdBy': 'DWARZEL', 'dateCreated': '2024-01-19 20:01:40', 'modifiedBy': 'DWARZEL', 'dateModified': '2024-02-22 15:12:19'}\n",
      "{'publicId': '15008471', 'version': '1', 'name': 'Charles Workspace P-01', 'generatedName': 'Charles Workspace P-01 | PCORnetv6.1 -> OMOPv5.4 | 15008471|1', 'workflowStatus': 'DRAFT NEW', 'registrationStatus': 'Incomplete', 'contextName': 'CDMH', 'latestVersionIndicator': 'Yes', 'sourceModelPublicId': '14714105', 'sourceModelVersion': '6.1', 'sourceModelName': 'PCORnet', 'sourceModelWorkflowStatus': 'DRAFT NEW', 'sourceModelContext': 'CDMH', 'targetModelPublicId': '14714099', 'targetModelVersion': '5.4', 'targetModelName': 'OMOP', 'targetModelWorkflowStatus': 'DRAFT NEW', 'targetModelContext': 'CDMH', 'provenanceOrganization': None, 'provenanceContact': None, 'createdBy': 'CHARLESY', 'dateCreated': '2024-07-11 19:38:28', 'modifiedBy': 'CHARLESY', 'dateModified': '2024-08-02 10:08:03'}\n",
      "{'publicId': '15008472', 'version': '1', 'name': 'Charles Workspace P-02', 'generatedName': 'Charles Workspace P-02 | OMOPv5.4 -> PCORnetv6.1 | 15008472|1', 'workflowStatus': 'DRAFT NEW', 'registrationStatus': 'Incomplete', 'contextName': 'CDMH', 'latestVersionIndicator': 'Yes', 'sourceModelPublicId': '14714099', 'sourceModelVersion': '5.4', 'sourceModelName': 'OMOP', 'sourceModelWorkflowStatus': 'DRAFT NEW', 'sourceModelContext': 'CDMH', 'targetModelPublicId': '14714105', 'targetModelVersion': '6.1', 'targetModelName': 'PCORnet', 'targetModelWorkflowStatus': 'DRAFT NEW', 'targetModelContext': 'CDMH', 'provenanceOrganization': None, 'provenanceContact': None, 'createdBy': 'CHARLESY', 'dateCreated': '2024-07-11 19:39:23', 'modifiedBy': 'CHARLESY', 'dateModified': '2024-08-02 10:08:22'}\n"
     ]
    }
   ],
   "source": [
    "#Get a list of model mappings\n",
    "url = baseURL+\"ModelMappings\"\n",
    "mappingjson = getModelInfo(url)\n",
    "for mapping in mappingjson['ModelMappings']:\n",
    "    print(mapping)\n"
   ]
  }
 ],
 "metadata": {
  "kernelspec": {
   "display_name": ".venv",
   "language": "python",
   "name": "python3"
  },
  "language_info": {
   "codemirror_mode": {
    "name": "ipython",
    "version": 3
   },
   "file_extension": ".py",
   "mimetype": "text/x-python",
   "name": "python",
   "nbconvert_exporter": "python",
   "pygments_lexer": "ipython3",
   "version": "3.12.1"
  }
 },
 "nbformat": 4,
 "nbformat_minor": 2
}
